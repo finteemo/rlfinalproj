{
 "cells": [
  {
   "cell_type": "code",
   "execution_count": 3,
   "id": "aa173371",
   "metadata": {},
   "outputs": [
    {
     "ename": "ModuleNotFoundError",
     "evalue": "No module named 'tensorflow'",
     "output_type": "error",
     "traceback": [
      "\u001b[1;31m---------------------------------------------------------------------------\u001b[0m",
      "\u001b[1;31mModuleNotFoundError\u001b[0m                       Traceback (most recent call last)",
      "\u001b[1;32m~\\AppData\\Local\\Temp\\ipykernel_11572\\3835673065.py\u001b[0m in \u001b[0;36m<module>\u001b[1;34m\u001b[0m\n\u001b[1;32m----> 1\u001b[1;33m \u001b[1;32mimport\u001b[0m \u001b[0mtensorflow\u001b[0m \u001b[1;32mas\u001b[0m \u001b[0mtf\u001b[0m\u001b[1;33m\u001b[0m\u001b[1;33m\u001b[0m\u001b[0m\n\u001b[0m\u001b[0;32m      2\u001b[0m \u001b[0mhello\u001b[0m\u001b[1;33m=\u001b[0m\u001b[0mtf\u001b[0m\u001b[1;33m.\u001b[0m\u001b[0mconstant\u001b[0m\u001b[1;33m(\u001b[0m\u001b[1;34m'cuda install test'\u001b[0m\u001b[1;33m)\u001b[0m\u001b[1;33m\u001b[0m\u001b[1;33m\u001b[0m\u001b[0m\n\u001b[0;32m      3\u001b[0m \u001b[0msess\u001b[0m\u001b[1;33m=\u001b[0m\u001b[0mtf\u001b[0m\u001b[1;33m.\u001b[0m\u001b[0mSession\u001b[0m\u001b[1;33m(\u001b[0m\u001b[1;33m)\u001b[0m\u001b[1;33m\u001b[0m\u001b[1;33m\u001b[0m\u001b[0m\n\u001b[0;32m      4\u001b[0m \u001b[0mprint\u001b[0m\u001b[1;33m(\u001b[0m\u001b[0msess\u001b[0m\u001b[1;33m.\u001b[0m\u001b[0mrun\u001b[0m\u001b[1;33m(\u001b[0m\u001b[0mhello\u001b[0m\u001b[1;33m)\u001b[0m\u001b[1;33m)\u001b[0m\u001b[1;33m\u001b[0m\u001b[1;33m\u001b[0m\u001b[0m\n",
      "\u001b[1;31mModuleNotFoundError\u001b[0m: No module named 'tensorflow'"
     ]
    }
   ],
   "source": [
    "import tensorflow as tf\n",
    "hello=tf.constant('cuda install test')\n",
    "sess=tf.Session()\n",
    "print(sess.run(hello))"
   ]
  },
  {
   "cell_type": "code",
   "execution_count": 2,
   "id": "9ee74167",
   "metadata": {},
   "outputs": [
    {
     "name": "stdout",
     "output_type": "stream",
     "text": [
      "# packages in environment at C:\\Users\\chris\\anaconda3\\envs\\rl:\n",
      "#\n",
      "# Name                    Version                   Build  Channel\n",
      "absl-py                   1.3.0                    pypi_0    pypi\n",
      "astunparse                1.6.3                    pypi_0    pypi\n",
      "blas                      1.0                         mkl  \n",
      "ca-certificates           2022.10.11           haa95532_0  \n",
      "cachetools                5.2.0                    pypi_0    pypi\n",
      "certifi                   2022.12.7        py37haa95532_0  \n",
      "charset-normalizer        2.1.1                    pypi_0    pypi\n",
      "fftw                      3.3.9                h2bbff1b_1  \n",
      "flatbuffers               22.12.6                  pypi_0    pypi\n",
      "gast                      0.4.0                    pypi_0    pypi\n",
      "google-auth               2.15.0                   pypi_0    pypi\n",
      "google-auth-oauthlib      0.4.6                    pypi_0    pypi\n",
      "google-pasta              0.2.0                    pypi_0    pypi\n",
      "grpcio                    1.51.1                   pypi_0    pypi\n",
      "gym                       0.9.4                    pypi_0    pypi\n",
      "h5py                      3.7.0                    pypi_0    pypi\n",
      "icc_rt                    2022.1.0             h6049295_2  \n",
      "idna                      3.4                      pypi_0    pypi\n",
      "importlib-metadata        5.2.0                    pypi_0    pypi\n",
      "intel-openmp              2021.4.0          haa95532_3556  \n",
      "joblib                    1.1.1            py37haa95532_0  \n",
      "keras                     2.11.0                   pypi_0    pypi\n",
      "libclang                  14.0.6                   pypi_0    pypi\n",
      "markdown                  3.4.1                    pypi_0    pypi\n",
      "markupsafe                2.1.1                    pypi_0    pypi\n",
      "mkl                       2021.4.0           haa95532_640  \n",
      "mkl-service               2.4.0            py37h2bbff1b_0  \n",
      "mkl_fft                   1.3.1            py37h277e83a_0  \n",
      "mkl_random                1.2.2            py37hf11a4ad_0  \n",
      "numpy                     1.21.6                   pypi_0    pypi\n",
      "numpy-base                1.21.5           py37hca35cd5_3  \n",
      "oauthlib                  3.2.2                    pypi_0    pypi\n",
      "openssl                   1.1.1s               h2bbff1b_0  \n",
      "opt-einsum                3.3.0                    pypi_0    pypi\n",
      "packaging                 22.0                     pypi_0    pypi\n",
      "pandas                    1.3.5                    pypi_0    pypi\n",
      "pip                       22.3.1           py37haa95532_0  \n",
      "protobuf                  3.19.6                   pypi_0    pypi\n",
      "pyasn1                    0.4.8                    pypi_0    pypi\n",
      "pyasn1-modules            0.2.8                    pypi_0    pypi\n",
      "pyglet                    2.0.2.1                  pypi_0    pypi\n",
      "python                    3.7.15               h6244533_1  \n",
      "python-dateutil           2.8.2                    pypi_0    pypi\n",
      "pytz                      2022.7                   pypi_0    pypi\n",
      "requests                  2.28.1                   pypi_0    pypi\n",
      "requests-oauthlib         1.3.1                    pypi_0    pypi\n",
      "rsa                       4.9                      pypi_0    pypi\n",
      "scikit-learn              1.0.2            py37hf11a4ad_1  \n",
      "scipy                     1.7.3            py37h7a0a035_2  \n",
      "setuptools                65.5.0           py37haa95532_0  \n",
      "six                       1.16.0             pyhd3eb1b0_1  \n",
      "sklearn                   0.0.post1                pypi_0    pypi\n",
      "sqlite                    3.40.0               h2bbff1b_0  \n",
      "tensorboard               2.11.0                   pypi_0    pypi\n",
      "tensorboard-data-server   0.6.1                    pypi_0    pypi\n",
      "tensorboard-plugin-wit    1.8.1                    pypi_0    pypi\n",
      "tensorflow                2.11.0                   pypi_0    pypi\n",
      "tensorflow-estimator      2.11.0                   pypi_0    pypi\n",
      "tensorflow-intel          2.11.0                   pypi_0    pypi\n",
      "tensorflow-io-gcs-filesystem 0.29.0                   pypi_0    pypi\n",
      "termcolor                 2.1.1                    pypi_0    pypi\n",
      "threadpoolctl             2.2.0              pyh0d69192_0  \n",
      "typing-extensions         4.4.0                    pypi_0    pypi\n",
      "urllib3                   1.26.13                  pypi_0    pypi\n",
      "vc                        14.2                 h21ff451_1  \n",
      "vs2015_runtime            14.27.29016          h5e58377_2  \n",
      "werkzeug                  2.2.2                    pypi_0    pypi\n",
      "wheel                     0.37.1             pyhd3eb1b0_0  \n",
      "wincertstore              0.2              py37haa95532_2  \n",
      "wrapt                     1.14.1                   pypi_0    pypi\n",
      "zipp                      3.11.0                   pypi_0    pypi\n"
     ]
    }
   ],
   "source": [
    "! conda list"
   ]
  },
  {
   "cell_type": "code",
   "execution_count": null,
   "id": "6552e54e",
   "metadata": {},
   "outputs": [],
   "source": []
  }
 ],
 "metadata": {
  "kernelspec": {
   "display_name": "Python 3 (ipykernel)",
   "language": "python",
   "name": "python3"
  },
  "language_info": {
   "codemirror_mode": {
    "name": "ipython",
    "version": 3
   },
   "file_extension": ".py",
   "mimetype": "text/x-python",
   "name": "python",
   "nbconvert_exporter": "python",
   "pygments_lexer": "ipython3",
   "version": "3.9.13"
  }
 },
 "nbformat": 4,
 "nbformat_minor": 5
}
